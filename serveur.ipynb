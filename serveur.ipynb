{
 "cells": [
  {
   "cell_type": "code",
   "execution_count": null,
   "metadata": {},
   "outputs": [
    {
     "name": "stdout",
     "output_type": "stream",
     "text": [
      " * Serving Flask app \"__main__\" (lazy loading)\n",
      " * Environment: production\n",
      "   WARNING: This is a development server. Do not use it in a production deployment.\n",
      "   Use a production WSGI server instead.\n",
      " * Debug mode: off\n"
     ]
    },
    {
     "name": "stderr",
     "output_type": "stream",
     "text": [
      " * Running on http://127.0.0.1:5000/ (Press CTRL+C to quit)\n"
     ]
    }
   ],
   "source": [
    "import numpy as np\n",
    "from flask import Flask, request, jsonify, render_template\n",
    "import pickle\n",
    "from sklearn.preprocessing import MinMaxScaler\n",
    "\n",
    "\n",
    "app = Flask(__name__) #Initialize the flask App\n",
    "model = pickle.load(open('model.pkl', 'rb'))\n",
    "scaler = pickle.load(open('Scaler.pkl','rb'))\n",
    "\n",
    "\n",
    "\n",
    "@app.route('/')\n",
    "def home():\n",
    "#***Route to render the HTML ********** \n",
    "\n",
    "    return render_template('index.html')\n",
    "\n",
    "@app.route('/predict',methods=['POST'])\n",
    "def predict():\n",
    "    \n",
    "    features = np.array([float(x) for x in request.form.values()]).reshape(1,-1)\n",
    "    scaled_features= scaler.transform(features)\n",
    "    \n",
    "    #final_features = [np.array(features)]\n",
    " #      final_features = MinMaxScaler().fit_transform(final_features)\n",
    "    prediction = model.predict(scaled_features)\n",
    "    print(features)\n",
    "    print(scaled_features)\n",
    "    print(prediction)\n",
    "\n",
    "    output = prediction[0]\n",
    "\n",
    "# return render_template('index.html', prediction_text='la target de ce joeurs dans 5 years should be $ {}'.format(output)) \n",
    "    \n",
    "    if output==0:\n",
    "        return render_template('index.html', prediction_text= 'Non,ca vaut pas le coup d’investir sur lui')\n",
    "       \n",
    "    else:\n",
    "    \n",
    "        return render_template('index.html', prediction_text='Oui,ca vaut le coup d’investir sur lui ')\n",
    "        \n",
    "\"\"\"\"\"\n",
    "@app.route('/results',methods=['POST'])\n",
    "def results():\n",
    "\n",
    "    data = request.get_json(force=True)\n",
    "    prediction = model.predict([np.array(list(data.values()))])\n",
    "\n",
    "    output = prediction[0]\n",
    "    return jsonify(output)\n",
    "    \n",
    "\"\"\"\"\"\n",
    "if __name__ == \"__main__\":\n",
    "\n",
    "    app.run(debug=False)\n"
   ]
  },
  {
   "cell_type": "code",
   "execution_count": null,
   "metadata": {},
   "outputs": [],
   "source": []
  }
 ],
 "metadata": {
  "kernelspec": {
   "display_name": "Python 3",
   "language": "python",
   "name": "python3"
  },
  "language_info": {
   "codemirror_mode": {
    "name": "ipython",
    "version": 3
   },
   "file_extension": ".py",
   "mimetype": "text/x-python",
   "name": "python",
   "nbconvert_exporter": "python",
   "pygments_lexer": "ipython3",
   "version": "3.7.6"
  }
 },
 "nbformat": 4,
 "nbformat_minor": 4
}
