{
 "cells": [
  {
   "cell_type": "code",
   "execution_count": 2,
   "metadata": {},
   "outputs": [],
   "source": [
    "#import requests\n",
    "\n",
    "#url = 'http://localhost:5000/predict_api'\n",
    "#r = requests.post(url,json={'GP':36, 'MIN': 27.4,'PTS':7.4, 'FGM': 2.6 ,'FGA':7.6, \t'FG%': 34.7, '3P Made':0.5,'3PA':2.1, \t'3P%':25.0,'FTM':1.6 ,'FTA':2.3,'FT%':69.9\t,'OREB':0.7, 'DREB':3.4,'REB': 4.1,'AST':1.9,'STL':0.4,'BLK': 0.4,'TOV':1.3})\n",
    "\n",
    "#print(r.json())"
   ]
  }
 ],
 "metadata": {
  "kernelspec": {
   "display_name": "Python 3",
   "language": "python",
   "name": "python3"
  },
  "language_info": {
   "codemirror_mode": {
    "name": "ipython",
    "version": 3
   },
   "file_extension": ".py",
   "mimetype": "text/x-python",
   "name": "python",
   "nbconvert_exporter": "python",
   "pygments_lexer": "ipython3",
   "version": "3.7.6"
  }
 },
 "nbformat": 4,
 "nbformat_minor": 4
}
